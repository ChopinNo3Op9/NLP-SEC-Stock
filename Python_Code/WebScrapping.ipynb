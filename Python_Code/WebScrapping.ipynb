{
 "cells": [
  {
   "cell_type": "code",
   "execution_count": null,
   "metadata": {},
   "outputs": [],
   "source": [
    "# import sys\n",
    "# sys.path.append('..')"
   ]
  },
  {
   "cell_type": "markdown",
   "metadata": {},
   "source": [
    "# Data Extraction/Scrapping"
   ]
  },
  {
   "cell_type": "markdown",
   "metadata": {},
   "source": [
    "Note: This script will not give the all 10-K FORM of all 2568 URLs at a single shot. Give only 1000 URLs at time."
   ]
  },
  {
   "cell_type": "code",
   "execution_count": null,
   "metadata": {
    "colab": {},
    "colab_type": "code",
    "id": "Wkdo1CLcuGRU"
   },
   "outputs": [],
   "source": [
    "import re\n",
    "import time\n",
    "import requests\n",
    "import warnings\n",
    "warnings.filterwarnings('ignore')\n",
    "import pandas as pd\n",
    "import numpy as np\n",
    "import urllib.request as url\n",
    "from bs4 import BeautifulSoup as bs\n",
    "import pandas as pd"
   ]
  },
  {
   "cell_type": "code",
   "execution_count": null,
   "metadata": {
    "colab": {
     "base_uri": "https://localhost:8080/",
     "height": 160
    },
    "colab_type": "code",
    "executionInfo": {
     "elapsed": 23574,
     "status": "ok",
     "timestamp": 1570385194100,
     "user": {
      "displayName": "Deepak Gupta",
      "photoUrl": "https://lh3.googleusercontent.com/a-/AAuE7mAGjMzoIxTP3ANJv9GfaIKjnHwGf0GfiOvivBi1-w=s64",
      "userId": "01752473356510328609"
     },
     "user_tz": -330
    },
    "id": "8w4Ph_2cEIdo",
    "outputId": "91ac210b-3caf-473d-a904-b106823438f6"
   },
   "outputs": [],
   "source": [
    "%%time\n",
    "#from google.colab import drive\n",
    "#drive.mount('/content/drive')"
   ]
  },
  {
   "cell_type": "code",
   "execution_count": null,
   "metadata": {
    "colab": {},
    "colab_type": "code",
    "id": "Puh8wcrpE3bA"
   },
   "outputs": [],
   "source": [
    "phd_data = pd.read_csv(\"../csv/10k_filing_info_train_links-1570100710859.csv\")"
   ]
  },
  {
   "cell_type": "code",
   "execution_count": null,
   "metadata": {
    "colab": {
     "base_uri": "https://localhost:8080/",
     "height": 203
    },
    "colab_type": "code",
    "executionInfo": {
     "elapsed": 3328,
     "status": "ok",
     "timestamp": 1570385288795,
     "user": {
      "displayName": "Deepak Gupta",
      "photoUrl": "https://lh3.googleusercontent.com/a-/AAuE7mAGjMzoIxTP3ANJv9GfaIKjnHwGf0GfiOvivBi1-w=s64",
      "userId": "01752473356510328609"
     },
     "user_tz": -330
    },
    "id": "Uq3E4WO7FA0R",
    "outputId": "d554d8dd-3c02-4c33-e334-fd4b20b461b6"
   },
   "outputs": [],
   "source": [
    "phd_data.head()"
   ]
  },
  {
   "cell_type": "code",
   "execution_count": null,
   "metadata": {},
   "outputs": [],
   "source": [
    "ticker_counts = phd_data['ticker'].value_counts()\n",
    "ticker_counts_filtered = ticker_counts[:1]\n",
    "# ticker_counts_filtered = ticker_counts[ticker_counts > 20]\n",
    "ticker_counts_filtered"
   ]
  },
  {
   "cell_type": "code",
   "execution_count": null,
   "metadata": {},
   "outputs": [],
   "source": [
    "# tmk_data = phd_data[phd_data['ticker'] == 'TMK']\n",
    "# tmk_data.sort_values(by='filing_date')"
   ]
  },
  {
   "cell_type": "code",
   "execution_count": null,
   "metadata": {
    "colab": {},
    "colab_type": "code",
    "id": "6mVs7aJmFEgf"
   },
   "outputs": [],
   "source": [
    "all_link = phd_data['10k_link']\n",
    "all_cik = phd_data['cik']\n",
    "all_ticker = phd_data['ticker']\n",
    "all_filing_date = phd_data[\"filing_date\"]\n",
    "all_long_term_outlook = phd_data[\"long_term_outlook\"]\n",
    "\n",
    "all_data  = list(zip(all_ticker,all_cik,all_filing_date,all_long_term_outlook,all_link))\n",
    "\n",
    "all_data = [\n",
    "    (ticker, cik, filing_date, long_term_outlook, link)\n",
    "    for ticker, cik, filing_date, long_term_outlook, link in all_data\n",
    "    if ticker in ticker_counts_filtered.index\n",
    "]"
   ]
  },
  {
   "cell_type": "code",
   "execution_count": null,
   "metadata": {},
   "outputs": [],
   "source": [
    "len(all_data)"
   ]
  },
  {
   "cell_type": "code",
   "execution_count": null,
   "metadata": {
    "colab": {
     "base_uri": "https://localhost:8080/",
     "height": 105
    },
    "colab_type": "code",
    "executionInfo": {
     "elapsed": 1612,
     "status": "ok",
     "timestamp": 1570385293341,
     "user": {
      "displayName": "Deepak Gupta",
      "photoUrl": "https://lh3.googleusercontent.com/a-/AAuE7mAGjMzoIxTP3ANJv9GfaIKjnHwGf0GfiOvivBi1-w=s64",
      "userId": "01752473356510328609"
     },
     "user_tz": -330
    },
    "id": "wcbVX72qF9ql",
    "outputId": "baab5496-489e-4eb9-cae6-40bda3dc537e"
   },
   "outputs": [],
   "source": [
    "all_data[0]"
   ]
  },
  {
   "cell_type": "code",
   "execution_count": null,
   "metadata": {
    "colab": {},
    "colab_type": "code",
    "id": "eYq0H6URFKEE"
   },
   "outputs": [],
   "source": [
    "#type(all_link)"
   ]
  },
  {
   "cell_type": "code",
   "execution_count": null,
   "metadata": {
    "colab": {},
    "colab_type": "code",
    "id": "J97k4grcuKwU"
   },
   "outputs": [],
   "source": [
    "URL = \"https://www.sec.gov/Archives/edgar/data/1031296/000103129612000012/0001031296-12-000012.txt\"\n",
    "#url = \"https://www.sec.gov/Archives/edgar/data/1031296/000103129612000012/0001031296-12-000012.txt\""
   ]
  },
  {
   "cell_type": "code",
   "execution_count": null,
   "metadata": {
    "colab": {},
    "colab_type": "code",
    "id": "K84u5ONo_VAC"
   },
   "outputs": [],
   "source": [
    "URL = [\"https://www.sec.gov/Archives/edgar/data/1031296/000103129612000012/0001031296-12-000012.txt\",\"https://www.sec.gov/Archives/edgar/data/21665/000162828015000846/0001628280-15-000846.txt\"]"
   ]
  },
  {
   "cell_type": "code",
   "execution_count": null,
   "metadata": {
    "colab": {},
    "colab_type": "code",
    "id": "c0pVTc0V5iyR"
   },
   "outputs": [],
   "source": [
    "data_10k = {\"ticker\":None,\"cik\":None,\"filing_date\":None,\"sentence\":None,\"long_term_outlook\":None}"
   ]
  },
  {
   "cell_type": "code",
   "execution_count": null,
   "metadata": {},
   "outputs": [],
   "source": [
    "data_10k"
   ]
  },
  {
   "cell_type": "code",
   "execution_count": null,
   "metadata": {
    "colab": {},
    "colab_type": "code",
    "id": "YswzWR9Y20qS"
   },
   "outputs": [],
   "source": [
    "def get_url_data(URL):\n",
    "  try:\n",
    "    print (\"executing URL\",URL[4])\n",
    "    time.sleep(5)\n",
    "    data = url.urlopen(URL[4]).read()\n",
    "    print(\"data: \", data)\n",
    "    soup = bs(data,'html.parser')\n",
    "    print(\"soup: \", soup)\n",
    "    doc = soup.find_all(\"type\")\n",
    "    doc = soup.find(name='body')\n",
    "    print(\"found doc: \", doc) \n",
    "    return (doc,URL[0:4])\n",
    "  except:\n",
    "    print (\"crashed for the URL\",URL)\n",
    "    #doc = soup.find(name='body')\n",
    "    return (None,URL[0:4])"
   ]
  },
  {
   "cell_type": "code",
   "execution_count": null,
   "metadata": {
    "colab": {},
    "colab_type": "code",
    "id": "o7EDZvYw2Gib"
   },
   "outputs": [],
   "source": [
    "def scrap_data(doc,xdata):\n",
    "  main_data = []\n",
    "  for i in doc:\n",
    "    cont = i.contents\n",
    "    if cont[0].strip() ==\"10-K\":\n",
    "      print (\"Found\")\n",
    "      main_data.append(cont[1].text)\n",
    "  return (main_data,xdata)\n"
   ]
  },
  {
   "cell_type": "code",
   "execution_count": null,
   "metadata": {
    "colab": {},
    "colab_type": "code",
    "id": "gHg0n8cV2lM2"
   },
   "outputs": [],
   "source": [
    "#doc = get_url_data(URL)"
   ]
  },
  {
   "cell_type": "code",
   "execution_count": null,
   "metadata": {
    "colab": {},
    "colab_type": "code",
    "id": "uoVxxoCq2lPB"
   },
   "outputs": [],
   "source": [
    "#d = scrap_data(doc)\n",
    "#{'ticker': None, 'cik': None, 'filing_date': None, 'sentence': None}"
   ]
  },
  {
   "cell_type": "code",
   "execution_count": null,
   "metadata": {
    "colab": {},
    "colab_type": "code",
    "id": "M-9h0KAc2lRU"
   },
   "outputs": [],
   "source": [
    "def write_data(d,x):\n",
    "    if data_10k.get('sentence'):\n",
    "        ts = data_10k.get('sentence')\n",
    "        tk = data_10k.get('ticker')\n",
    "        tcik = data_10k.get('cik')\n",
    "        tdate = data_10k.get('filing_date')\n",
    "        tt = data_10k.get('long_term_outlook')\n",
    "    else:\n",
    "        ts,tk,tcik,tdate,tt = [],[],[],[],[]\n",
    "    ts.append(d)\n",
    "    tk.append(x[0])\n",
    "    tcik.append(x[1])\n",
    "    tdate.append(x[2])\n",
    "    tt.append(x[3])\n",
    "    data_10k['sentence'] = ts.copy()\n",
    "    data_10k['ticker'] = tk.copy()\n",
    "    data_10k['cik'] = tcik.copy()\n",
    "    data_10k['filing_date'] = tdate.copy()\n",
    "    data_10k['long_term_outlook'] = tt.copy()\n",
    "    print(\"Sucessfully Write!!..\")"
   ]
  },
  {
   "cell_type": "code",
   "execution_count": null,
   "metadata": {
    "colab": {},
    "colab_type": "code",
    "id": "xQKMcDcP2lTn"
   },
   "outputs": [],
   "source": [
    "# write_data(d)all_data"
   ]
  },
  {
   "cell_type": "code",
   "execution_count": null,
   "metadata": {},
   "outputs": [],
   "source": [
    "all_data"
   ]
  },
  {
   "cell_type": "code",
   "execution_count": null,
   "metadata": {},
   "outputs": [],
   "source": [
    "%%time\n",
    "\n",
    "c=0\n",
    "# for u in all_data[0:1000]:#instead of passing single URL passed 8\n",
    "for u in all_data[:2]:\n",
    "  print(\"Count:{0}\".format(c))  \n",
    "  doc, xdata = get_url_data(u)\n",
    "  print(\"doc\",doc)\n",
    "  if doc:\n",
    "    d,x = scrap_data(doc,xdata)\n",
    "    #print(d)\n",
    "    write_data(d,x)\n",
    "  else:\n",
    "    print(\"data crashed\")\n",
    "    #write_data(\"data crashed\")\n",
    "  c += 1"
   ]
  },
  {
   "cell_type": "code",
   "execution_count": null,
   "metadata": {
    "colab": {
     "base_uri": "https://localhost:8080/",
     "height": 1000
    },
    "colab_type": "code",
    "executionInfo": {
     "elapsed": 303654,
     "status": "ok",
     "timestamp": 1570376486346,
     "user": {
      "displayName": "Deepak Gupta",
      "photoUrl": "https://lh3.googleusercontent.com/a-/AAuE7mAGjMzoIxTP3ANJv9GfaIKjnHwGf0GfiOvivBi1-w=s64",
      "userId": "01752473356510328609"
     },
     "user_tz": -330
    },
    "id": "b8nlIAdy_i75",
    "outputId": "02505c76-6faf-408e-8840-c9e53e781a27"
   },
   "outputs": [],
   "source": [
    "#%%time\n",
    "#for u in all_link[1:11]:#instead of passing single URL passed 8\n",
    "#  doc = get_url_data(u)\n",
    "#  if doc:\n",
    "#    d = scrap_data(doc)\n",
    "#    #print(d)\n",
    "##    write_data(d)\n",
    "#  else:\n",
    "#    print(\"data crashed\")\n",
    "#    #write_data(\"data crashed\")"
   ]
  },
  {
   "cell_type": "code",
   "execution_count": null,
   "metadata": {
    "colab": {},
    "colab_type": "code",
    "id": "AKjAt_pr99GC"
   },
   "outputs": [],
   "source": [
    "ar = pd.DataFrame(data_10k)"
   ]
  },
  {
   "cell_type": "code",
   "execution_count": null,
   "metadata": {
    "colab": {
     "base_uri": "https://localhost:8080/",
     "height": 295
    },
    "colab_type": "code",
    "executionInfo": {
     "elapsed": 1282,
     "status": "ok",
     "timestamp": 1570376620412,
     "user": {
      "displayName": "Deepak Gupta",
      "photoUrl": "https://lh3.googleusercontent.com/a-/AAuE7mAGjMzoIxTP3ANJv9GfaIKjnHwGf0GfiOvivBi1-w=s64",
      "userId": "01752473356510328609"
     },
     "user_tz": -330
    },
    "id": "5rQIUPoo-9VV",
    "outputId": "220fa9fa-f6d5-42fc-b91c-37e9aa149326"
   },
   "outputs": [],
   "source": [
    "ar.head(10)"
   ]
  },
  {
   "cell_type": "code",
   "execution_count": null,
   "metadata": {
    "colab": {},
    "colab_type": "code",
    "id": "_FIl0Oj3B7wc"
   },
   "outputs": [],
   "source": [
    "ar.to_csv(\"final_updated_1000.csv\",index = False)"
   ]
  },
  {
   "cell_type": "code",
   "execution_count": null,
   "metadata": {},
   "outputs": [],
   "source": []
  }
 ],
 "metadata": {
  "accelerator": "GPU",
  "colab": {
   "collapsed_sections": [],
   "name": "final_scrapping.ipynb",
   "provenance": []
  },
  "kernelspec": {
   "display_name": "Python 3",
   "language": "python",
   "name": "python3"
  },
  "language_info": {
   "codemirror_mode": {
    "name": "ipython",
    "version": 3
   },
   "file_extension": ".py",
   "mimetype": "text/x-python",
   "name": "python",
   "nbconvert_exporter": "python",
   "pygments_lexer": "ipython3",
   "version": "3.10.11"
  }
 },
 "nbformat": 4,
 "nbformat_minor": 1
}
