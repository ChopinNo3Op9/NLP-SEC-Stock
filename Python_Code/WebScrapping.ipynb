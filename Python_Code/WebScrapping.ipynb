{
 "cells": [
  {
   "cell_type": "code",
   "execution_count": 50,
   "metadata": {},
   "outputs": [],
   "source": [
    "# import sys\n",
    "# sys.path.append('..')"
   ]
  },
  {
   "cell_type": "markdown",
   "metadata": {},
   "source": [
    "# Data Extraction/Scrapping"
   ]
  },
  {
   "cell_type": "markdown",
   "metadata": {},
   "source": [
    "Note: This script will not give the all 10-K FORM of all 2568 URLs at a single shot. Give only 1000 URLs at time."
   ]
  },
  {
   "cell_type": "code",
   "execution_count": 51,
   "metadata": {
    "colab": {},
    "colab_type": "code",
    "id": "Wkdo1CLcuGRU"
   },
   "outputs": [],
   "source": [
    "import re\n",
    "import time\n",
    "import requests\n",
    "import warnings\n",
    "warnings.filterwarnings('ignore')\n",
    "import pandas as pd\n",
    "import numpy as np\n",
    "import urllib.request as url\n",
    "from bs4 import BeautifulSoup as bs\n",
    "import pandas as pd"
   ]
  },
  {
   "cell_type": "code",
   "execution_count": 52,
   "metadata": {
    "colab": {
     "base_uri": "https://localhost:8080/",
     "height": 160
    },
    "colab_type": "code",
    "executionInfo": {
     "elapsed": 23574,
     "status": "ok",
     "timestamp": 1570385194100,
     "user": {
      "displayName": "Deepak Gupta",
      "photoUrl": "https://lh3.googleusercontent.com/a-/AAuE7mAGjMzoIxTP3ANJv9GfaIKjnHwGf0GfiOvivBi1-w=s64",
      "userId": "01752473356510328609"
     },
     "user_tz": -330
    },
    "id": "8w4Ph_2cEIdo",
    "outputId": "91ac210b-3caf-473d-a904-b106823438f6"
   },
   "outputs": [
    {
     "name": "stdout",
     "output_type": "stream",
     "text": [
      "CPU times: total: 0 ns\n",
      "Wall time: 0 ns\n"
     ]
    }
   ],
   "source": [
    "%%time\n",
    "#from google.colab import drive\n",
    "#drive.mount('/content/drive')"
   ]
  },
  {
   "cell_type": "code",
   "execution_count": 53,
   "metadata": {
    "colab": {},
    "colab_type": "code",
    "id": "Puh8wcrpE3bA"
   },
   "outputs": [],
   "source": [
    "phd_data = pd.read_csv(\"../csv/10k_filing_info_train_links-1570100710859.csv\")"
   ]
  },
  {
   "cell_type": "code",
   "execution_count": 54,
   "metadata": {
    "colab": {
     "base_uri": "https://localhost:8080/",
     "height": 203
    },
    "colab_type": "code",
    "executionInfo": {
     "elapsed": 3328,
     "status": "ok",
     "timestamp": 1570385288795,
     "user": {
      "displayName": "Deepak Gupta",
      "photoUrl": "https://lh3.googleusercontent.com/a-/AAuE7mAGjMzoIxTP3ANJv9GfaIKjnHwGf0GfiOvivBi1-w=s64",
      "userId": "01752473356510328609"
     },
     "user_tz": -330
    },
    "id": "Uq3E4WO7FA0R",
    "outputId": "d554d8dd-3c02-4c33-e334-fd4b20b461b6"
   },
   "outputs": [
    {
     "data": {
      "text/html": [
       "<div>\n",
       "<style scoped>\n",
       "    .dataframe tbody tr th:only-of-type {\n",
       "        vertical-align: middle;\n",
       "    }\n",
       "\n",
       "    .dataframe tbody tr th {\n",
       "        vertical-align: top;\n",
       "    }\n",
       "\n",
       "    .dataframe thead th {\n",
       "        text-align: right;\n",
       "    }\n",
       "</style>\n",
       "<table border=\"1\" class=\"dataframe\">\n",
       "  <thead>\n",
       "    <tr style=\"text-align: right;\">\n",
       "      <th></th>\n",
       "      <th>ticker</th>\n",
       "      <th>cik</th>\n",
       "      <th>filing_date</th>\n",
       "      <th>10k_link</th>\n",
       "      <th>long_term_outlook</th>\n",
       "    </tr>\n",
       "  </thead>\n",
       "  <tbody>\n",
       "    <tr>\n",
       "      <th>0</th>\n",
       "      <td>FE</td>\n",
       "      <td>1031296</td>\n",
       "      <td>2012-02-28</td>\n",
       "      <td>https://www.sec.gov/Archives/edgar/data/103129...</td>\n",
       "      <td>0</td>\n",
       "    </tr>\n",
       "    <tr>\n",
       "      <th>1</th>\n",
       "      <td>CL</td>\n",
       "      <td>21665</td>\n",
       "      <td>2015-02-19</td>\n",
       "      <td>https://www.sec.gov/Archives/edgar/data/21665/...</td>\n",
       "      <td>0</td>\n",
       "    </tr>\n",
       "    <tr>\n",
       "      <th>2</th>\n",
       "      <td>PRU</td>\n",
       "      <td>1137774</td>\n",
       "      <td>2016-02-19</td>\n",
       "      <td>https://www.sec.gov/Archives/edgar/data/113777...</td>\n",
       "      <td>1</td>\n",
       "    </tr>\n",
       "    <tr>\n",
       "      <th>3</th>\n",
       "      <td>EBAY</td>\n",
       "      <td>1065088</td>\n",
       "      <td>2001-03-28</td>\n",
       "      <td>https://www.sec.gov/Archives/edgar/data/106508...</td>\n",
       "      <td>1</td>\n",
       "    </tr>\n",
       "    <tr>\n",
       "      <th>4</th>\n",
       "      <td>CAM</td>\n",
       "      <td>941548</td>\n",
       "      <td>2005-02-25</td>\n",
       "      <td>https://www.sec.gov/Archives/edgar/data/941548...</td>\n",
       "      <td>1</td>\n",
       "    </tr>\n",
       "  </tbody>\n",
       "</table>\n",
       "</div>"
      ],
      "text/plain": [
       "  ticker      cik filing_date  \\\n",
       "0     FE  1031296  2012-02-28   \n",
       "1     CL    21665  2015-02-19   \n",
       "2    PRU  1137774  2016-02-19   \n",
       "3   EBAY  1065088  2001-03-28   \n",
       "4    CAM   941548  2005-02-25   \n",
       "\n",
       "                                            10k_link  long_term_outlook  \n",
       "0  https://www.sec.gov/Archives/edgar/data/103129...                  0  \n",
       "1  https://www.sec.gov/Archives/edgar/data/21665/...                  0  \n",
       "2  https://www.sec.gov/Archives/edgar/data/113777...                  1  \n",
       "3  https://www.sec.gov/Archives/edgar/data/106508...                  1  \n",
       "4  https://www.sec.gov/Archives/edgar/data/941548...                  1  "
      ]
     },
     "execution_count": 54,
     "metadata": {},
     "output_type": "execute_result"
    }
   ],
   "source": [
    "phd_data.head()"
   ]
  },
  {
   "cell_type": "code",
   "execution_count": 55,
   "metadata": {},
   "outputs": [
    {
     "data": {
      "text/plain": [
       "TMK    23\n",
       "Name: ticker, dtype: int64"
      ]
     },
     "execution_count": 55,
     "metadata": {},
     "output_type": "execute_result"
    }
   ],
   "source": [
    "ticker_counts = phd_data['ticker'].value_counts()\n",
    "ticker_counts_filtered = ticker_counts[:1]\n",
    "# ticker_counts_filtered = ticker_counts[ticker_counts > 20]\n",
    "ticker_counts_filtered"
   ]
  },
  {
   "cell_type": "code",
   "execution_count": 56,
   "metadata": {},
   "outputs": [],
   "source": [
    "# tmk_data = phd_data[phd_data['ticker'] == 'TMK']\n",
    "# tmk_data.sort_values(by='filing_date')"
   ]
  },
  {
   "cell_type": "code",
   "execution_count": 57,
   "metadata": {
    "colab": {},
    "colab_type": "code",
    "id": "6mVs7aJmFEgf"
   },
   "outputs": [],
   "source": [
    "all_link = phd_data['10k_link']\n",
    "all_cik = phd_data['cik']\n",
    "all_ticker = phd_data['ticker']\n",
    "all_filing_date = phd_data[\"filing_date\"]\n",
    "all_long_term_outlook = phd_data[\"long_term_outlook\"]\n",
    "\n",
    "all_data  = list(zip(all_ticker,all_cik,all_filing_date,all_long_term_outlook,all_link))\n",
    "\n",
    "all_data = [\n",
    "    (ticker, cik, filing_date, long_term_outlook, link)\n",
    "    for ticker, cik, filing_date, long_term_outlook, link in all_data\n",
    "    if ticker in ticker_counts_filtered.index\n",
    "]"
   ]
  },
  {
   "cell_type": "code",
   "execution_count": 58,
   "metadata": {},
   "outputs": [
    {
     "data": {
      "text/plain": [
       "23"
      ]
     },
     "execution_count": 58,
     "metadata": {},
     "output_type": "execute_result"
    }
   ],
   "source": [
    "len(all_data)"
   ]
  },
  {
   "cell_type": "code",
   "execution_count": 59,
   "metadata": {
    "colab": {
     "base_uri": "https://localhost:8080/",
     "height": 105
    },
    "colab_type": "code",
    "executionInfo": {
     "elapsed": 1612,
     "status": "ok",
     "timestamp": 1570385293341,
     "user": {
      "displayName": "Deepak Gupta",
      "photoUrl": "https://lh3.googleusercontent.com/a-/AAuE7mAGjMzoIxTP3ANJv9GfaIKjnHwGf0GfiOvivBi1-w=s64",
      "userId": "01752473356510328609"
     },
     "user_tz": -330
    },
    "id": "wcbVX72qF9ql",
    "outputId": "baab5496-489e-4eb9-cae6-40bda3dc537e"
   },
   "outputs": [
    {
     "data": {
      "text/plain": [
       "('TMK',\n",
       " 320335,\n",
       " '2000-03-23',\n",
       " 1,\n",
       " 'https://www.sec.gov/Archives/edgar/data/320335/0000931763-00-000595.txt')"
      ]
     },
     "execution_count": 59,
     "metadata": {},
     "output_type": "execute_result"
    }
   ],
   "source": [
    "all_data[0]"
   ]
  },
  {
   "cell_type": "code",
   "execution_count": 60,
   "metadata": {
    "colab": {},
    "colab_type": "code",
    "id": "eYq0H6URFKEE"
   },
   "outputs": [],
   "source": [
    "#type(all_link)"
   ]
  },
  {
   "cell_type": "code",
   "execution_count": 61,
   "metadata": {
    "colab": {},
    "colab_type": "code",
    "id": "J97k4grcuKwU"
   },
   "outputs": [],
   "source": [
    "URL = \"https://www.sec.gov/Archives/edgar/data/1031296/000103129612000012/0001031296-12-000012.txt\"\n",
    "#url = \"https://www.sec.gov/Archives/edgar/data/1031296/000103129612000012/0001031296-12-000012.txt\""
   ]
  },
  {
   "cell_type": "code",
   "execution_count": 62,
   "metadata": {
    "colab": {},
    "colab_type": "code",
    "id": "K84u5ONo_VAC"
   },
   "outputs": [],
   "source": [
    "URL = [\"https://www.sec.gov/Archives/edgar/data/1031296/000103129612000012/0001031296-12-000012.txt\",\"https://www.sec.gov/Archives/edgar/data/21665/000162828015000846/0001628280-15-000846.txt\"]"
   ]
  },
  {
   "cell_type": "code",
   "execution_count": 63,
   "metadata": {
    "colab": {},
    "colab_type": "code",
    "id": "c0pVTc0V5iyR"
   },
   "outputs": [],
   "source": [
    "data_10k = {\"ticker\":None,\"cik\":None,\"filing_date\":None,\"sentence\":None,\"long_term_outlook\":None}"
   ]
  },
  {
   "cell_type": "code",
   "execution_count": 64,
   "metadata": {},
   "outputs": [
    {
     "data": {
      "text/plain": [
       "{'ticker': None,\n",
       " 'cik': None,\n",
       " 'filing_date': None,\n",
       " 'sentence': None,\n",
       " 'long_term_outlook': None}"
      ]
     },
     "execution_count": 64,
     "metadata": {},
     "output_type": "execute_result"
    }
   ],
   "source": [
    "data_10k"
   ]
  },
  {
   "cell_type": "code",
   "execution_count": 65,
   "metadata": {
    "colab": {},
    "colab_type": "code",
    "id": "YswzWR9Y20qS"
   },
   "outputs": [],
   "source": [
    "def get_url_data(URL):\n",
    "  try:\n",
    "    print (\"executing URL\",URL[4])\n",
    "    time.sleep(5)\n",
    "    data = url.urlopen(URL[4]).read()\n",
    "    print(\"data: \", data)\n",
    "    soup = bs(data,'html.parser')\n",
    "    print(\"soup: \", soup)\n",
    "    doc = soup.find_all(\"type\")\n",
    "    doc = soup.find(name='body')\n",
    "    print(\"found doc: \", doc) \n",
    "    return (doc,URL[0:4])\n",
    "  except:\n",
    "    print (\"crashed for the URL\",URL)\n",
    "    #doc = soup.find(name='body')\n",
    "    return (None,URL[0:4])"
   ]
  },
  {
   "cell_type": "code",
   "execution_count": 66,
   "metadata": {
    "colab": {},
    "colab_type": "code",
    "id": "o7EDZvYw2Gib"
   },
   "outputs": [],
   "source": [
    "def scrap_data(doc,xdata):\n",
    "  main_data = []\n",
    "  for i in doc:\n",
    "    cont = i.contents\n",
    "    if cont[0].strip() ==\"10-K\":\n",
    "      print (\"Found\")\n",
    "      main_data.append(cont[1].text)\n",
    "  return (main_data,xdata)\n"
   ]
  },
  {
   "cell_type": "code",
   "execution_count": 67,
   "metadata": {
    "colab": {},
    "colab_type": "code",
    "id": "gHg0n8cV2lM2"
   },
   "outputs": [],
   "source": [
    "#doc = get_url_data(URL)"
   ]
  },
  {
   "cell_type": "code",
   "execution_count": 68,
   "metadata": {
    "colab": {},
    "colab_type": "code",
    "id": "uoVxxoCq2lPB"
   },
   "outputs": [],
   "source": [
    "#d = scrap_data(doc)\n",
    "#{'ticker': None, 'cik': None, 'filing_date': None, 'sentence': None}"
   ]
  },
  {
   "cell_type": "code",
   "execution_count": 69,
   "metadata": {
    "colab": {},
    "colab_type": "code",
    "id": "M-9h0KAc2lRU"
   },
   "outputs": [],
   "source": [
    "def write_data(d,x):\n",
    "    if data_10k.get('sentence'):\n",
    "        ts = data_10k.get('sentence')\n",
    "        tk = data_10k.get('ticker')\n",
    "        tcik = data_10k.get('cik')\n",
    "        tdate = data_10k.get('filing_date')\n",
    "        tt = data_10k.get('long_term_outlook')\n",
    "    else:\n",
    "        ts,tk,tcik,tdate,tt = [],[],[],[],[]\n",
    "    ts.append(d)\n",
    "    tk.append(x[0])\n",
    "    tcik.append(x[1])\n",
    "    tdate.append(x[2])\n",
    "    tt.append(x[3])\n",
    "    data_10k['sentence'] = ts.copy()\n",
    "    data_10k['ticker'] = tk.copy()\n",
    "    data_10k['cik'] = tcik.copy()\n",
    "    data_10k['filing_date'] = tdate.copy()\n",
    "    data_10k['long_term_outlook'] = tt.copy()\n",
    "    print(\"Sucessfully Write!!..\")"
   ]
  },
  {
   "cell_type": "code",
   "execution_count": 70,
   "metadata": {
    "colab": {},
    "colab_type": "code",
    "id": "xQKMcDcP2lTn"
   },
   "outputs": [],
   "source": [
    "# write_data(d)all_data"
   ]
  },
  {
   "cell_type": "code",
   "execution_count": 71,
   "metadata": {},
   "outputs": [
    {
     "data": {
      "text/plain": [
       "[('TMK',\n",
       "  320335,\n",
       "  '2000-03-23',\n",
       "  1,\n",
       "  'https://www.sec.gov/Archives/edgar/data/320335/0000931763-00-000595.txt'),\n",
       " ('TMK',\n",
       "  320335,\n",
       "  '1999-03-12',\n",
       "  0,\n",
       "  'https://www.sec.gov/Archives/edgar/data/320335/0000931763-99-000710.txt'),\n",
       " ('TMK',\n",
       "  320335,\n",
       "  '2006-03-06',\n",
       "  1,\n",
       "  'https://www.sec.gov/Archives/edgar/data/320335/000119312506046266/0001193125-06-046266.txt'),\n",
       " ('TMK',\n",
       "  320335,\n",
       "  '2012-02-28',\n",
       "  1,\n",
       "  'https://www.sec.gov/Archives/edgar/data/320335/000119312512085031/0001193125-12-085031.txt'),\n",
       " ('TMK',\n",
       "  320335,\n",
       "  '1997-03-25',\n",
       "  1,\n",
       "  'https://www.sec.gov/Archives/edgar/data/320335/0000950109-97-002410.txt'),\n",
       " ('TMK',\n",
       "  320335,\n",
       "  '1994-03-25',\n",
       "  0,\n",
       "  'https://www.sec.gov/Archives/edgar/data/320335/0000950109-94-000538.txt'),\n",
       " ('TMK',\n",
       "  320335,\n",
       "  '2011-02-28',\n",
       "  1,\n",
       "  'https://www.sec.gov/Archives/edgar/data/320335/000119312511049737/0001193125-11-049737.txt'),\n",
       " ('TMK',\n",
       "  320335,\n",
       "  '2009-02-27',\n",
       "  0,\n",
       "  'https://www.sec.gov/Archives/edgar/data/320335/000119312509040782/0001193125-09-040782.txt'),\n",
       " ('TMK',\n",
       "  320335,\n",
       "  '2016-02-26',\n",
       "  1,\n",
       "  'https://www.sec.gov/Archives/edgar/data/320335/000032033516000059/0000320335-16-000059.txt'),\n",
       " ('TMK',\n",
       "  320335,\n",
       "  '1995-03-24',\n",
       "  1,\n",
       "  'https://www.sec.gov/Archives/edgar/data/320335/0000950109-95-000857.txt'),\n",
       " ('TMK',\n",
       "  320335,\n",
       "  '2013-02-28',\n",
       "  1,\n",
       "  'https://www.sec.gov/Archives/edgar/data/320335/000119312513084290/0001193125-13-084290.txt'),\n",
       " ('TMK',\n",
       "  320335,\n",
       "  '2003-03-24',\n",
       "  1,\n",
       "  'https://www.sec.gov/Archives/edgar/data/320335/000093176303000621/0000931763-03-000621.txt'),\n",
       " ('TMK',\n",
       "  320335,\n",
       "  '2010-02-26',\n",
       "  1,\n",
       "  'https://www.sec.gov/Archives/edgar/data/320335/000119312510042810/0001193125-10-042810.txt'),\n",
       " ('TMK',\n",
       "  320335,\n",
       "  '2001-03-26',\n",
       "  1,\n",
       "  'https://www.sec.gov/Archives/edgar/data/320335/000093176301000503/0000931763-01-000503.txt'),\n",
       " ('TMK',\n",
       "  320335,\n",
       "  '2005-03-15',\n",
       "  0,\n",
       "  'https://www.sec.gov/Archives/edgar/data/320335/000119312505051197/0001193125-05-051197.txt'),\n",
       " ('TMK',\n",
       "  320335,\n",
       "  '2015-02-27',\n",
       "  1,\n",
       "  'https://www.sec.gov/Archives/edgar/data/320335/000119312515069449/0001193125-15-069449.txt'),\n",
       " ('TMK',\n",
       "  320335,\n",
       "  '2007-03-01',\n",
       "  0,\n",
       "  'https://www.sec.gov/Archives/edgar/data/320335/000119312507043904/0001193125-07-043904.txt'),\n",
       " ('TMK',\n",
       "  320335,\n",
       "  '2008-02-29',\n",
       "  0,\n",
       "  'https://www.sec.gov/Archives/edgar/data/320335/000119312508043419/0001193125-08-043419.txt'),\n",
       " ('TMK',\n",
       "  320335,\n",
       "  '2017-02-27',\n",
       "  1,\n",
       "  'https://www.sec.gov/Archives/edgar/data/320335/000032033517000010/0000320335-17-000010.txt'),\n",
       " ('TMK',\n",
       "  320335,\n",
       "  '1998-03-27',\n",
       "  0,\n",
       "  'https://www.sec.gov/Archives/edgar/data/320335/0000931763-98-000750.txt'),\n",
       " ('TMK',\n",
       "  320335,\n",
       "  '1996-03-26',\n",
       "  1,\n",
       "  'https://www.sec.gov/Archives/edgar/data/320335/0000931763-96-000091.txt'),\n",
       " ('TMK',\n",
       "  320335,\n",
       "  '2002-03-22',\n",
       "  0,\n",
       "  'https://www.sec.gov/Archives/edgar/data/320335/000093176302000748/0000931763-02-000748.txt'),\n",
       " ('TMK',\n",
       "  320335,\n",
       "  '2014-02-28',\n",
       "  1,\n",
       "  'https://www.sec.gov/Archives/edgar/data/320335/000119312514076801/0001193125-14-076801.txt')]"
      ]
     },
     "execution_count": 71,
     "metadata": {},
     "output_type": "execute_result"
    }
   ],
   "source": [
    "all_data"
   ]
  },
  {
   "cell_type": "code",
   "execution_count": 72,
   "metadata": {},
   "outputs": [
    {
     "name": "stdout",
     "output_type": "stream",
     "text": [
      "Count:0\n",
      "executing URL https://www.sec.gov/Archives/edgar/data/320335/0000931763-00-000595.txt\n"
     ]
    },
    {
     "name": "stdout",
     "output_type": "stream",
     "text": [
      "crashed for the URL ('TMK', 320335, '2000-03-23', 1, 'https://www.sec.gov/Archives/edgar/data/320335/0000931763-00-000595.txt')\n",
      "doc None\n",
      "data crashed\n",
      "Count:1\n",
      "executing URL https://www.sec.gov/Archives/edgar/data/320335/0000931763-99-000710.txt\n",
      "crashed for the URL ('TMK', 320335, '1999-03-12', 0, 'https://www.sec.gov/Archives/edgar/data/320335/0000931763-99-000710.txt')\n",
      "doc None\n",
      "data crashed\n",
      "CPU times: total: 15.6 ms\n",
      "Wall time: 10.2 s\n"
     ]
    }
   ],
   "source": [
    "%%time\n",
    "\n",
    "c=0\n",
    "# for u in all_data[0:1000]:#instead of passing single URL passed 8\n",
    "for u in all_data[:2]:\n",
    "  print(\"Count:{0}\".format(c))  \n",
    "  doc, xdata = get_url_data(u)\n",
    "  print(\"doc\",doc)\n",
    "  if doc:\n",
    "    d,x = scrap_data(doc,xdata)\n",
    "    #print(d)\n",
    "    write_data(d,x)\n",
    "  else:\n",
    "    print(\"data crashed\")\n",
    "    #write_data(\"data crashed\")\n",
    "  c += 1"
   ]
  },
  {
   "cell_type": "code",
   "execution_count": 73,
   "metadata": {
    "colab": {
     "base_uri": "https://localhost:8080/",
     "height": 1000
    },
    "colab_type": "code",
    "executionInfo": {
     "elapsed": 303654,
     "status": "ok",
     "timestamp": 1570376486346,
     "user": {
      "displayName": "Deepak Gupta",
      "photoUrl": "https://lh3.googleusercontent.com/a-/AAuE7mAGjMzoIxTP3ANJv9GfaIKjnHwGf0GfiOvivBi1-w=s64",
      "userId": "01752473356510328609"
     },
     "user_tz": -330
    },
    "id": "b8nlIAdy_i75",
    "outputId": "02505c76-6faf-408e-8840-c9e53e781a27"
   },
   "outputs": [],
   "source": [
    "#%%time\n",
    "#for u in all_link[1:11]:#instead of passing single URL passed 8\n",
    "#  doc = get_url_data(u)\n",
    "#  if doc:\n",
    "#    d = scrap_data(doc)\n",
    "#    #print(d)\n",
    "##    write_data(d)\n",
    "#  else:\n",
    "#    print(\"data crashed\")\n",
    "#    #write_data(\"data crashed\")"
   ]
  },
  {
   "cell_type": "code",
   "execution_count": 74,
   "metadata": {
    "colab": {},
    "colab_type": "code",
    "id": "AKjAt_pr99GC"
   },
   "outputs": [
    {
     "name": "stderr",
     "output_type": "stream",
     "text": [
      "\n",
      "KeyboardInterrupt\n",
      "\n"
     ]
    }
   ],
   "source": [
    "ar = pd.DataFrame(data_10k)"
   ]
  },
  {
   "cell_type": "code",
   "execution_count": null,
   "metadata": {
    "colab": {
     "base_uri": "https://localhost:8080/",
     "height": 295
    },
    "colab_type": "code",
    "executionInfo": {
     "elapsed": 1282,
     "status": "ok",
     "timestamp": 1570376620412,
     "user": {
      "displayName": "Deepak Gupta",
      "photoUrl": "https://lh3.googleusercontent.com/a-/AAuE7mAGjMzoIxTP3ANJv9GfaIKjnHwGf0GfiOvivBi1-w=s64",
      "userId": "01752473356510328609"
     },
     "user_tz": -330
    },
    "id": "5rQIUPoo-9VV",
    "outputId": "220fa9fa-f6d5-42fc-b91c-37e9aa149326"
   },
   "outputs": [
    {
     "ename": "NameError",
     "evalue": "name 'ar' is not defined",
     "output_type": "error",
     "traceback": [
      "\u001b[1;31m---------------------------------------------------------------------------\u001b[0m",
      "\u001b[1;31mNameError\u001b[0m                                 Traceback (most recent call last)",
      "Cell \u001b[1;32mIn[127], line 1\u001b[0m\n\u001b[1;32m----> 1\u001b[0m \u001b[43mar\u001b[49m\u001b[38;5;241m.\u001b[39mhead(\u001b[38;5;241m10\u001b[39m)\n",
      "\u001b[1;31mNameError\u001b[0m: name 'ar' is not defined"
     ]
    }
   ],
   "source": [
    "ar.head(10)"
   ]
  },
  {
   "cell_type": "code",
   "execution_count": null,
   "metadata": {
    "colab": {},
    "colab_type": "code",
    "id": "_FIl0Oj3B7wc"
   },
   "outputs": [],
   "source": [
    "ar.to_csv(\"final_updated_1000.csv\",index = False)"
   ]
  }
 ],
 "metadata": {
  "accelerator": "GPU",
  "colab": {
   "collapsed_sections": [],
   "name": "final_scrapping.ipynb",
   "provenance": []
  },
  "kernelspec": {
   "display_name": "Python 3",
   "language": "python",
   "name": "python3"
  },
  "language_info": {
   "codemirror_mode": {
    "name": "ipython",
    "version": 3
   },
   "file_extension": ".py",
   "mimetype": "text/x-python",
   "name": "python",
   "nbconvert_exporter": "python",
   "pygments_lexer": "ipython3",
   "version": "3.10.11"
  }
 },
 "nbformat": 4,
 "nbformat_minor": 1
}
